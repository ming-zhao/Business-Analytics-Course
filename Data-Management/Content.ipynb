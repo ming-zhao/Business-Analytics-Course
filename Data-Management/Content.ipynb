{
  "nbformat": 4,
  "nbformat_minor": 0,
  "metadata": {
    "colab": {
      "name": "Content.ipynb",
      "version": "0.3.2",
      "provenance": [],
      "collapsed_sections": []
    }
  },
  "cells": [
    {
      "cell_type": "markdown",
      "metadata": {
        "id": "view-in-github",
        "colab_type": "text"
      },
      "source": [
        "[View in Colaboratory](https://colab.research.google.com/github/ming-zhao/Business-Analytics-Course/blob/master/Data-Management/Content.ipynb)"
      ]
    },
    {
      "metadata": {
        "id": "d5Le3u2y4fR1",
        "colab_type": "text"
      },
      "cell_type": "markdown",
      "source": [
        "## Disclaimer\n",
        "\n",
        "This notebook by no means represents a *comprehensive* overview of the Python programming language. Instead, it provides basic details on libraries and operations that are useful for addressing problems in business analysis. Ultimately, this notebook aims to provide enough details so that a beginning user can familiarize themselves with the capabilities of the Python programming language. \n",
        "\n",
        "Also, it is important to realize that the Python language and the available libraries will continue to evolve. That being said, the opbjects, functions, and methods described in this notebook may one day change. If changes occur, areas of this notebook that use deprecated features may cease to work and will need to be revised or omitted.\n",
        "\n",
        "\n",
        "## Content\n",
        "\n",
        "### [1. Introduction to Python](Introduction-to-Python.ipynb)\n",
        "\n",
        "### [2. Data Types in Python]()\n",
        "\n",
        "- [Introduction to lists]()\n",
        "\n",
        "### [3. Introduction to Numpy]()\n",
        "\n",
        "\n",
        "### [4. Introduction to Pandas]()"
      ]
    }
  ]
}