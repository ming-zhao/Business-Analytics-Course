{
  "nbformat": 4,
  "nbformat_minor": 0,
  "metadata": {
    "colab": {
      "name": "Introduction-to-Python.ipynb",
      "version": "0.3.2",
      "provenance": [],
      "collapsed_sections": [],
      "toc_visible": true
    }
  },
  "cells": [
    {
      "cell_type": "markdown",
      "metadata": {
        "id": "view-in-github",
        "colab_type": "text"
      },
      "source": [
        "[View in Colaboratory](https://colab.research.google.com/github/ming-zhao/Business-Analytics-Course/blob/master/Data-Management/Introduction-to-Python.ipynb)"
      ]
    },
    {
      "metadata": {
        "id": "hlW3U7yJ1wG1",
        "colab_type": "text"
      },
      "cell_type": "markdown",
      "source": [
        "<!--NAVIGATION-->\n",
        "<[Data Types in Python](01.00-Data-Types-in-Python.ipynb) | [Contents](00.00-index.ipynb) | [Introduction to Dictionaries](01.02-Introduction-to-Dictionaries.ipynb) >\n",
        "\n",
        "## Introduction to Python"
      ]
    },
    {
      "metadata": {
        "id": "8TC5O5dm3Zbz",
        "colab_type": "text"
      },
      "cell_type": "markdown",
      "source": [
        "### Hello World"
      ]
    },
    {
      "metadata": {
        "id": "N4-Cfw051sSC",
        "colab_type": "code",
        "colab": {
          "base_uri": "https://localhost:8080/",
          "height": 34
        },
        "outputId": "cd8ffdb0-c558-4779-f33a-5fcab66dbdb9"
      },
      "cell_type": "code",
      "source": [
        "print(\"Hello world!\")"
      ],
      "execution_count": 1,
      "outputs": [
        {
          "output_type": "stream",
          "text": [
            "Hello world!\n"
          ],
          "name": "stdout"
        }
      ]
    },
    {
      "metadata": {
        "id": "anOA00sQ3fXQ",
        "colab_type": "text"
      },
      "cell_type": "markdown",
      "source": [
        "### Expressions"
      ]
    },
    {
      "metadata": {
        "id": "PWxcAu2w19x5",
        "colab_type": "code",
        "colab": {
          "base_uri": "https://localhost:8080/",
          "height": 34
        },
        "outputId": "8e27908e-0595-4f34-f057-d1b971e0a84f"
      },
      "cell_type": "code",
      "source": [
        "(2+2)*3"
      ],
      "execution_count": 2,
      "outputs": [
        {
          "output_type": "execute_result",
          "data": {
            "text/plain": [
              "12"
            ]
          },
          "metadata": {
            "tags": []
          },
          "execution_count": 2
        }
      ]
    },
    {
      "metadata": {
        "id": "6b4gbiZ73nMK",
        "colab_type": "code",
        "colab": {
          "base_uri": "https://localhost:8080/",
          "height": 34
        },
        "outputId": "8c2a10c6-3db9-4a5b-b8da-b074a13a412c"
      },
      "cell_type": "code",
      "source": [
        "a=3\n",
        "2*a"
      ],
      "execution_count": 4,
      "outputs": [
        {
          "output_type": "execute_result",
          "data": {
            "text/plain": [
              "6"
            ]
          },
          "metadata": {
            "tags": []
          },
          "execution_count": 4
        }
      ]
    },
    {
      "metadata": {
        "id": "KWkgHVYf3rzi",
        "colab_type": "code",
        "colab": {
          "base_uri": "https://localhost:8080/",
          "height": 34
        },
        "outputId": "028208bf-5d3d-43b9-bcee-8869953132ff"
      },
      "cell_type": "code",
      "source": [
        "a, b = 2, 6\n",
        "a*b"
      ],
      "execution_count": 5,
      "outputs": [
        {
          "output_type": "execute_result",
          "data": {
            "text/plain": [
              "12"
            ]
          },
          "metadata": {
            "tags": []
          },
          "execution_count": 5
        }
      ]
    },
    {
      "metadata": {
        "id": "_AZvV1dL3uhQ",
        "colab_type": "code",
        "colab": {
          "base_uri": "https://localhost:8080/",
          "height": 34
        },
        "outputId": "801149fb-1efa-43db-d676-6bc95be2741a"
      },
      "cell_type": "code",
      "source": [
        "print('a*b=',a*b)"
      ],
      "execution_count": 6,
      "outputs": [
        {
          "output_type": "stream",
          "text": [
            "('a*b=', 12)\n"
          ],
          "name": "stdout"
        }
      ]
    },
    {
      "metadata": {
        "id": "FsoycH0j3Lt4",
        "colab_type": "text"
      },
      "cell_type": "markdown",
      "source": [
        "### String escaping\n",
        "\n",
        "String escaping refers to the ability to insert special characters in a string. For example, how can you insert ' and \", given that these characters are used to delimit a string in Python code? The backslash \\ is the go-to escape character in Python (and in many other languages too). Here are a few examples:"
      ]
    },
    {
      "metadata": {
        "id": "bt5bt96q3KAw",
        "colab_type": "code",
        "colab": {
          "base_uri": "https://localhost:8080/",
          "height": 34
        },
        "outputId": "88e965d1-b096-421b-d345-8736cc6f7ab1"
      },
      "cell_type": "code",
      "source": [
        "print(\"Hello \\\"world\\\"!\")"
      ],
      "execution_count": 11,
      "outputs": [
        {
          "output_type": "stream",
          "text": [
            "Hello \"world\"!\n"
          ],
          "name": "stdout"
        }
      ]
    },
    {
      "metadata": {
        "id": "ppIVm9TO37Ai",
        "colab_type": "code",
        "colab": {
          "base_uri": "https://localhost:8080/",
          "height": 68
        },
        "outputId": "4f0748c7-3664-4eec-f1bc-ca5b96d2d7d0"
      },
      "cell_type": "code",
      "source": [
        "print(\"A list:\\n* item 1\\n* item 2\")"
      ],
      "execution_count": 8,
      "outputs": [
        {
          "output_type": "stream",
          "text": [
            "A list:\n",
            "* item 1\n",
            "* item 2\n"
          ],
          "name": "stdout"
        }
      ]
    },
    {
      "metadata": {
        "id": "P3alRFnC38bb",
        "colab_type": "code",
        "colab": {
          "base_uri": "https://localhost:8080/",
          "height": 34
        },
        "outputId": "71829147-74c6-480e-9cba-07a423f391ec"
      },
      "cell_type": "code",
      "source": [
        "print(\"C:\\\\path\\\\on\\\\windows\")"
      ],
      "execution_count": 9,
      "outputs": [
        {
          "output_type": "stream",
          "text": [
            "C:\\path\\on\\windows\n"
          ],
          "name": "stdout"
        }
      ]
    },
    {
      "metadata": {
        "id": "aFMFtj1S3-3Y",
        "colab_type": "code",
        "colab": {
          "base_uri": "https://localhost:8080/",
          "height": 34
        },
        "outputId": "7749d02a-79a2-4bc8-c22b-b4a1c8df8fb6"
      },
      "cell_type": "code",
      "source": [
        "print(r\"C:\\path\\on\\windows\")"
      ],
      "execution_count": 10,
      "outputs": [
        {
          "output_type": "stream",
          "text": [
            "C:\\path\\on\\windows\n"
          ],
          "name": "stdout"
        }
      ]
    },
    {
      "metadata": {
        "id": "oDVr1XRs4VMU",
        "colab_type": "text"
      },
      "cell_type": "markdown",
      "source": [
        "<!--NAVIGATION-->\n",
        "<[Data Types in Python](01.00-Data-Types-in-Python.ipynb) | [Contents](00.00-index.ipynb) | [Introduction to Dictionaries](01.02-Introduction-to-Dictionaries.ipynb) >"
      ]
    }
  ]
}