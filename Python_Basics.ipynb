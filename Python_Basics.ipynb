{
  "nbformat": 4,
  "nbformat_minor": 0,
  "metadata": {
    "colab": {
      "name": "Python Basics.ipynb",
      "version": "0.3.2",
      "provenance": [],
      "collapsed_sections": [],
      "toc_visible": true
    },
    "kernelspec": {
      "display_name": "Python 3",
      "language": "python",
      "name": "python3"
    }
  },
  "cells": [
    {
      "cell_type": "markdown",
      "metadata": {
        "id": "view-in-github",
        "colab_type": "text"
      },
      "source": [
        "[View in Colaboratory](https://colab.research.google.com/github/ming-zhao/Business-Analytics-Course/blob/master/Python_Basics.ipynb)"
      ]
    },
    {
      "metadata": {
        "id": "-fSwZ4GzPY8P",
        "colab_type": "text"
      },
      "cell_type": "markdown",
      "source": [
        "# Python Basics for Business Analytics\n",
        "Prepared by: Ming Zhao, Ph.D.\n",
        "\n",
        "This notebook provides an introduction to the programming language Python, primarily oriented towards functions that are useful for business analytic applications. \n",
        "\n",
        "> What is the primary programming language used in artificial intelligence (data analytics, data mining, etc.)?\n",
        "\n",
        ">Python is an interpreted high-level programming language for general-purpose programming. \n",
        "\n",
        ">More about Python language can be found in https://en.wikipedia.org/wiki/Python_(programming_language%29\n",
        "\n",
        "The following table of contents lists the topics discussed in this notebook. Clicking on any topic will advance the notebook to the associated area."
      ]
    },
    {
      "metadata": {
        "id": "64jQ1rTvPY8S",
        "colab_type": "text"
      },
      "cell_type": "markdown",
      "source": [
        "#### Disclaimer\n",
        "\n",
        "This notebook by no means represents a *comprehensive* overview of the Python programming language. Instead, it provides basic details on libraries and operations that are useful for addressing problems in operations management. Ultimately, this notebook aims to provide enough details so that a beginning user can familiarize themselves with the capabilities of the Python programming language. \n",
        "\n",
        "Also, it is important to realize that the Python language and the available libraries will continue to evolve. That being said, the opbjects, functions, and methods described in this notebook may one day change. If changes occur, areas of this notebook that use deprecated features may cease to work and will need to be revised or omitted."
      ]
    },
    {
      "metadata": {
        "id": "NeFeFYpjPY8T",
        "colab_type": "text"
      },
      "cell_type": "markdown",
      "source": [
        "# Python Basics\n",
        "<a id=\"Python Basics\"> </a>"
      ]
    },
    {
      "metadata": {
        "id": "nLg5q9WNPY8U",
        "colab_type": "text"
      },
      "cell_type": "markdown",
      "source": [
        "### Getting Help\n",
        "\n",
        "You can find information regarding Python functions using the built in `help()` function."
      ]
    },
    {
      "metadata": {
        "id": "503JMB3tPY8W",
        "colab_type": "code",
        "colab": {}
      },
      "cell_type": "code",
      "source": [
        "help(print)"
      ],
      "execution_count": 0,
      "outputs": []
    },
    {
      "metadata": {
        "id": "h2WxIplwPY8g",
        "colab_type": "text"
      },
      "cell_type": "markdown",
      "source": [
        "You can also find information regarding functions and attributes of imported libraries. The following cell block provides an example that shows how to find for the `std()` function that is part of the NumPy library. We will explore the NumPy library in more detail later in this notebook. "
      ]
    },
    {
      "metadata": {
        "id": "XfAMPIECPY8h",
        "colab_type": "code",
        "colab": {}
      },
      "cell_type": "code",
      "source": [
        "import numpy as np\n",
        "help(np.std)"
      ],
      "execution_count": 0,
      "outputs": []
    },
    {
      "metadata": {
        "id": "8JfH6_sFPY8k",
        "colab_type": "text"
      },
      "cell_type": "markdown",
      "source": [
        "Finally, in a notebook, hitting the key combination `<TAB>` within the arguments area of a Python function will bring up help on the associated function."
      ]
    },
    {
      "metadata": {
        "id": "yo0coNK1PY8l",
        "colab_type": "text"
      },
      "cell_type": "markdown",
      "source": [
        "### The importance of spacing \n",
        "\n",
        "If you are familiar with other coding languages, you are likely used to used some form of braces to indicate nesting. For example, defining a loop that prints the numbers in the interval [0, 10] in C++ may be accomplished with:\n",
        "\n",
        "\n",
        "\n",
        "```\n",
        "#include <iostream>\n",
        "using namespace std;\n",
        "```\n",
        "\n",
        "```\n",
        "for(int i = 1; i < 11; i++) { \n",
        "    value = i;\n",
        "    cout << value << endl; \n",
        "}\n",
        "```\n",
        "\n",
        "The key thing to note is the use of braces to define the statements that are nested in the `for` loop, and the use of semi-colons to indicate the end of a statment. In Python, nesting is indicated by spacing. Most Python editors will attempt to *anticipate* the spacing that is needed. However, if you get errors that state *unexpected indents* exist, you should double check your spacing. The following code performs the same function as the C++-style loop."
      ]
    },
    {
      "metadata": {
        "id": "7aSYK8RRPY8m",
        "colab_type": "code",
        "colab": {}
      },
      "cell_type": "code",
      "source": [
        "for i in range(1,11):\n",
        "  value = i\n",
        "  print(value)"
      ],
      "execution_count": 0,
      "outputs": []
    },
    {
      "metadata": {
        "id": "2YRizL55PY8p",
        "colab_type": "text"
      },
      "cell_type": "markdown",
      "source": [
        "### Lists\n",
        "\n",
        "Lists are a versatile Python datatype. Lists can be initialized as empty, with sequences, or with comma-separated initialization values. Lists can be appended to our deleted from in loops and do not require that all values be of the same type. The following code blocks provide several examples of list initialization."
      ]
    },
    {
      "metadata": {
        "id": "4BGVJvOLPY8p",
        "colab_type": "code",
        "colab": {}
      },
      "cell_type": "code",
      "source": [
        "list1 = list(range(1,11))\n",
        "print(list1)"
      ],
      "execution_count": 0,
      "outputs": []
    },
    {
      "metadata": {
        "id": "XP5Sbb0yPY8s",
        "colab_type": "code",
        "colab": {}
      },
      "cell_type": "code",
      "source": [
        "list1 = [0, 1, 2, 3, 4, 5, 6, 7, 8]\n",
        "print(list1)"
      ],
      "execution_count": 0,
      "outputs": []
    },
    {
      "metadata": {
        "id": "cNURTU6YPY8w",
        "colab_type": "code",
        "colab": {}
      },
      "cell_type": "code",
      "source": [
        "list1 = [] # Creates an empty list\n",
        "for i in range(20,31):\n",
        "    list1.append(i)\n",
        "\n",
        "print(list1)"
      ],
      "execution_count": 0,
      "outputs": []
    },
    {
      "metadata": {
        "id": "hYcuehbbPY80",
        "colab_type": "text"
      },
      "cell_type": "markdown",
      "source": [
        "Lists can be multi-dimensional, but it is generally better to use other storage objects such as dictionaries or Pandas dataframes (both covered later in this notebook). For completeness, the following code block shows one method to create a simple two-dimensional list."
      ]
    },
    {
      "metadata": {
        "id": "NBXFZ54oPY81",
        "colab_type": "code",
        "colab": {}
      },
      "cell_type": "code",
      "source": [
        "list1 = [[1,2],[3,4],[5,6],[7,8]]\n",
        "print(list1)"
      ],
      "execution_count": 0,
      "outputs": []
    },
    {
      "metadata": {
        "id": "pMnanmsVPY85",
        "colab_type": "text"
      },
      "cell_type": "markdown",
      "source": [
        "### List comprehensions\n",
        "\n",
        "In mathematics, it is common to see sets described as follows:\n",
        "$$ S = \\{x^{2}:x\\in 1, \\ldots, 10\\}.$$\n",
        "This notation defines a set $S$ that contains the squares of the integers $1 - 10$. In Python, we can use similar syntax to define the set as a list. The following code block demonstrates such syntax, which is referred to as `list comprehension`.\n",
        "\n",
        "**Note that the range function we use takes a tuple argument (*start*, *stop*) and returns all integers in the interval [*start*, *stop*).**"
      ]
    },
    {
      "metadata": {
        "id": "hDkaNYhtPY85",
        "colab_type": "code",
        "colab": {}
      },
      "cell_type": "code",
      "source": [
        "S = [x**2 for x in range(1,11)]\n",
        "print(S)\n",
        "del(S)"
      ],
      "execution_count": 0,
      "outputs": []
    },
    {
      "metadata": {
        "id": "rcTBsyliPY8-",
        "colab_type": "text"
      },
      "cell_type": "markdown",
      "source": [
        "### Dictionaries\n",
        "\n",
        "Like lists dictionaries are a versatile Python data object that can easily be changed. With respect to the differences between lists and dictionaries: 1) lists are ordered sets of objects, whereas dictionaries are unordered sets, 2) items in dictionaries are accessed via keys and not via their position, and 3) the values of a dictionary can be any Python data type. So dictionaries are unordered key-value-pairs. \n",
        "\n",
        "The following code block provides an example that is adapted from https://automatetheboringstuff.com/chapter5/ (accessed 1/9/2018) that clearly demonstrates the key differences between lists and dictionaries."
      ]
    },
    {
      "metadata": {
        "id": "eDZSziadPY8-",
        "colab_type": "code",
        "colab": {}
      },
      "cell_type": "code",
      "source": [
        "list1 = ['cats', 'dogs', 'moose']\n",
        "list2 = ['dogs', 'moose', 'cats']\n",
        "if (list1 == list2):\n",
        "    print(\"The two lists are the same.\\n\")\n",
        "else:\n",
        "    print(\"The two lists are different.\\n\")\n",
        "\n",
        "dict1 = {'name': 'Zophie', 'species': 'cat', 'age': '8'}\n",
        "dict2 = {'species': 'cat', 'age': '8', 'name': 'Zophie'}\n",
        "if (dict1 == dict2):\n",
        "    print(\"The two dictionaries are the same.\\n\")\n",
        "else:\n",
        "    print(\"The two dictionaries are different.\\n\")"
      ],
      "execution_count": 0,
      "outputs": []
    },
    {
      "metadata": {
        "id": "SVYUCLkFPY9C",
        "colab_type": "text"
      },
      "cell_type": "markdown",
      "source": [
        "The important thing to note in the previous example is that the two lists are comprised of the same items, just in a different order, and the two dictionaries are also comprised of the same key-value pairs, just in different orders. However, Python interprets the lists as being different and the dictionaries as being equal. This clearly demonstrates the ordering differences between the two structures.\n",
        "\n",
        "The following code block shows how to access elements of a dictionary by key."
      ]
    },
    {
      "metadata": {
        "id": "4c9tO4OwPY9D",
        "colab_type": "code",
        "colab": {}
      },
      "cell_type": "code",
      "source": [
        "dict1['name']"
      ],
      "execution_count": 0,
      "outputs": []
    },
    {
      "metadata": {
        "id": "JI_mOiBpPY9G",
        "colab_type": "text"
      },
      "cell_type": "markdown",
      "source": [
        "Dictionaries have three methods that allow for easy iteration over a dictionary, i.e., the `keys`, `values`, and `items` methods. The following code block demonstrates these methods."
      ]
    },
    {
      "metadata": {
        "id": "iUtEfjsMPY9H",
        "colab_type": "code",
        "colab": {}
      },
      "cell_type": "code",
      "source": [
        "print(\"The keys in dict1 are:\")\n",
        "for key in dict1.keys():\n",
        "    print(key)\n",
        "    \n",
        "print(\"\\nThe values in dict1 are:\")\n",
        "for value in dict1.values():\n",
        "    print(value)\n",
        "    \n",
        "print(\"\\nThe items (key-value pairs) in dict1 are:\")\n",
        "for item in dict1.items():\n",
        "    print(item)"
      ],
      "execution_count": 0,
      "outputs": []
    },
    {
      "metadata": {
        "id": "l_RprDRHPY9K",
        "colab_type": "text"
      },
      "cell_type": "markdown",
      "source": [
        "You can also use these methods with the `in` operator to easily search for keys and values in a dictionary as shown below.\n",
        "\n",
        "**Note that the `\\\"` statements are needed to print the quotation marks in the printed string. If they are not printed, Python will interpret the quotes as the end of a string and produce an error."
      ]
    },
    {
      "metadata": {
        "id": "vOyUvzhSPY9L",
        "colab_type": "code",
        "colab": {}
      },
      "cell_type": "code",
      "source": [
        "print('Is the key \\\"name\\\" in dict1?','name' in dict1.keys())\n",
        "print('Is the key \\\"cat\\\" in dict1?','cat' in dict1.keys())\n",
        "print('Is the value \\\"cat\\\" in dict1?','cat' in dict1.values())"
      ],
      "execution_count": 0,
      "outputs": []
    },
    {
      "metadata": {
        "id": "KCp68M6wPY9O",
        "colab_type": "text"
      },
      "cell_type": "markdown",
      "source": [
        "### 'New' string formatting style\n",
        "\n",
        "Python recently introduced a new method for mixing variables and static string content. The new format allows users to insert placeholders in statements and to insert variable values into these place holders in the order that they are specified in a tuple that follows the statement. The following code block demonstrates this formatting. Specifically, the code block defines two python variables, one a string and the other an integer. The values of these variables are inserted into two strings according to there index in the argument to the `format()` function. The escape sequence `\\n` starts a new line. "
      ]
    },
    {
      "metadata": {
        "id": "NWpd0ga-PY9P",
        "colab_type": "code",
        "colab": {}
      },
      "cell_type": "code",
      "source": [
        "first_variable = 'arg1'\n",
        "second_variable = 1\n",
        "\n",
        "mystring = 'My first variable is {0} and my second is {1}.\\n'.format(first_variable,second_variable)\n",
        "print(mystring)\n",
        "\n",
        "mystring = 'My second variable is {1} and my first is {0}.'.format(first_variable,second_variable)\n",
        "print(mystring)\n",
        "\n",
        "del(mystring)"
      ],
      "execution_count": 0,
      "outputs": []
    },
    {
      "metadata": {
        "id": "NSACdrRQPY9S",
        "colab_type": "text"
      },
      "cell_type": "markdown",
      "source": [
        "# NumPy Basics\n",
        "\n",
        "\n",
        "From https://en.wikipedia.org/wiki/NumPy (accessed on 1/6/2018):\n",
        "\n",
        ">NumPy is a library for the Python programming language, adding support for large, multi-dimensional arrays and matrices, along with a large collection of high-level mathematical functions to operate on these arrays. The ancestor of NumPy, Numeric, was originally created by Jim Hugunin with contributions from several other developers. In 2005, Travis Oliphant created NumPy by incorporating features of the competing Numarray into Numeric, with extensive modifications. NumPy is open-source software and has many contributors.\n",
        "\n",
        "This section of the notebook will demonstrate several features of the NumPy, multi-dimensional array. "
      ]
    },
    {
      "metadata": {
        "id": "741UHq-RPY9T",
        "colab_type": "text"
      },
      "cell_type": "markdown",
      "source": [
        "### Motivation for  NumPy\n",
        "\n",
        "The first example illustrates the motivation of NumPy. Specifically, NumPy was developed to support scientific computations via the efficient implementation of a multi-dimensional array. In addition to an efficient array implementation, NumPy also includes functions for performing operations on Numpy arrays that are optimized for computational efficeincy. The following code block illustrate the substantial increas in efficiency that NumPy provides in comparison to a standard python list. Specifically, the example considers the task of adding two vectors of a specified size using both standard Python lists and NumPy arrays. The time of the additiona and the size of the reulting objects are reported for comparison purposes."
      ]
    },
    {
      "metadata": {
        "id": "sjLPEdPlPY9U",
        "colab_type": "code",
        "colab": {}
      },
      "cell_type": "code",
      "source": [
        "import numpy as np \n",
        "import time\n",
        "import sys\n",
        "\n",
        "SIZE = 250000\n",
        "\n",
        "list1 = range(SIZE)\n",
        "list2 = range(SIZE)\n",
        "\n",
        "start = time.time()\n",
        "result = [(x+y) for x,y in zip(list1,list2)]\n",
        "print(\"Using Python lists, the addition took\",(time.time() - start)*1000,\"milliseconds.\")\n",
        "print(\"The size of the result object based on Python lists is\",sys.getsizeof(result),\"bytes.\\n\")\n",
        "\n",
        "del(list1,list2,result)\n",
        "\n",
        "nparray1 = np.arange(SIZE)\n",
        "nparray2 = np.arange(SIZE)\n",
        "start = time.time()\n",
        "result = nparray1 + nparray2\n",
        "print(\"Using NumPy arrays, the addition took\",(time.time() - start)*1000,\"milliseconds.\")\n",
        "print(\"The size of the result object based on NumPy arrays is\",sys.getsizeof(result),\"bytes.\\n\")\n",
        "\n",
        "del(nparray1, nparray2, result)"
      ],
      "execution_count": 0,
      "outputs": []
    },
    {
      "metadata": {
        "id": "EtOn3uJWPY9W",
        "colab_type": "text"
      },
      "cell_type": "markdown",
      "source": [
        "Although the exact speed differences will vary based on the machine that is being used, it should be obvious that NumPy performs the addition much faster than standard Python lists, while at the same time consuming less system memory. **In general, whenever it is possible to use NumPy arrays for a task, they should be used!!!**"
      ]
    },
    {
      "metadata": {
        "id": "LrPbBqHNPY9X",
        "colab_type": "text"
      },
      "cell_type": "markdown",
      "source": [
        "In addition to demonstrating the substantial performance gains offered by NumPy, the previous code block also illsutrates some of the subtle differences of working with Python lists and NumPy arrays, and a method for checking the computation time that is required to execute a portion of code. Specifically:\n",
        "\n",
        "- The `time.time()` function, from the `time` library, returns the current system time. Saving the value of the current time in a variable `start` and then computing the difference `time.time() - start` returns the seconds elapsing between the two calls to `time.time()` in seconds. Multiplying by 1000 converts the elapsed time to milliseconds.\n",
        "\n",
        "\n",
        "- When working with Python lists, the `range()` function returns a sequence of integers starting at zero and ending at the argument passed to `range()`. In our example, we pass a variable `SIZE` to the `range()` function. Thus, the sequence stored in the list is 0, 1, ..., `SIZE`-2, `SIZE`-1.\n",
        "\n",
        "\n",
        "- When working with NumPy arrays, the `np.range()` function returns a sequence of integers starting at zero and ending at the argument passed to `np.arange()`. In our example, we pass a variable `SIZE` to the `np.arange()` function. Thus, the sequence stored in the NumPy array is 0, 1, ..., `SIZE`-2, `SIZE`-1.\n",
        "\n",
        "\n",
        "- The `sys.getsizeof()` function, from the `sys` library, returns the size of an object in bytes.\n",
        "\n",
        "\n",
        "- When working with Python lists, the `zip()` function essentially combines two or more list objects and allows element-wise operations to be performed.\n",
        "\n",
        "\n",
        "- When working with NumPy arrays, there is no need to *zip* arrays. Instead, element-wise operations are performed using standard mathematical operators."
      ]
    },
    {
      "metadata": {
        "id": "EQCOmOv8PY9Y",
        "colab_type": "text"
      },
      "cell_type": "markdown",
      "source": [
        "Another approach for timing operations is shown in the following code block, i.e., the special `%timeit` command. Note that specifying `-r 10` tells the `%timeit` function to perform 100 runs of the test."
      ]
    },
    {
      "metadata": {
        "id": "95xKPIihPY9Y",
        "colab_type": "code",
        "colab": {}
      },
      "cell_type": "code",
      "source": [
        "import numpy as np \n",
        "\n",
        "SIZE = 250000\n",
        "\n",
        "list1 = range(SIZE)\n",
        "list2 = range(SIZE)\n",
        "\n",
        "print(\"Time statistics for Python lists:\")\n",
        "%timeit -r 10 [(x+y) for x,y in zip(list1,list2)]\n",
        "\n",
        "del(list1,list2)\n",
        "\n",
        "nparray1 = np.arange(SIZE)\n",
        "nparray2 = np.arange(SIZE)\n",
        "\n",
        "print(\"\\nTime statistics for NumPy arrays:\")\n",
        "%timeit -r 10 nparray1 + nparray2\n",
        "\n",
        "del(nparray1, nparray2)"
      ],
      "execution_count": 0,
      "outputs": []
    },
    {
      "metadata": {
        "id": "a7IwbWFaPY9b",
        "colab_type": "text"
      },
      "cell_type": "markdown",
      "source": [
        "### Looking for NumPy Methods to Achieve a Task\n",
        "\n",
        "In addition to the help functionality built in to Python, the NumPy library also allows you to search for functions that are included in the library using keywords. This search capability is achieved using the `lookfor` function as shown in the following cell that searches for functions associated with the search phrase *Standard deviation*."
      ]
    },
    {
      "metadata": {
        "id": "nrLlw-k-PY9b",
        "colab_type": "code",
        "colab": {}
      },
      "cell_type": "code",
      "source": [
        "np.lookfor('Standard deviation')"
      ],
      "execution_count": 0,
      "outputs": []
    },
    {
      "metadata": {
        "id": "t_hWKRTtPY9g",
        "colab_type": "text"
      },
      "cell_type": "markdown",
      "source": [
        "### Operations Involving NumPy Arrays\n",
        "<a id=\"Operations Involving NumPy Arrays\"> </a>\n",
        "\n",
        "The following code blocks demonstrate several functions that perform operations on NumPy arrays and the reshape function. Since it is rather easy to deduce the operations that the functions perform, no additional explanation is provided.\n",
        "\n",
        "[Back to Table of Contents](#Table of Contents)<br>"
      ]
    },
    {
      "metadata": {
        "id": "dTvhdjuyPY9g",
        "colab_type": "code",
        "colab": {}
      },
      "cell_type": "code",
      "source": [
        "import numpy as np\n",
        "a = np.arange(12).reshape((3,4)) # Uses the numbers 0,...,11 to create an array with 3 rows and 4 columns\n",
        "a"
      ],
      "execution_count": 0,
      "outputs": []
    },
    {
      "metadata": {
        "id": "qoYfY-pUPY9k",
        "colab_type": "code",
        "colab": {}
      },
      "cell_type": "code",
      "source": [
        "a*a # Multiplies the array a by itself"
      ],
      "execution_count": 0,
      "outputs": []
    },
    {
      "metadata": {
        "id": "R-3DgFaEPY9p",
        "colab_type": "code",
        "colab": {}
      },
      "cell_type": "code",
      "source": [
        "np.sqrt(a) # Takes the square root of all elements in a"
      ],
      "execution_count": 0,
      "outputs": []
    },
    {
      "metadata": {
        "id": "qBUS8bIuPY9s",
        "colab_type": "code",
        "colab": {}
      },
      "cell_type": "code",
      "source": [
        "a/2 # Divides all elements in a by 2"
      ],
      "execution_count": 0,
      "outputs": []
    },
    {
      "metadata": {
        "id": "T974bUn_PY9w",
        "colab_type": "code",
        "colab": {}
      },
      "cell_type": "code",
      "source": [
        "a.mean() # Mean of elements in a"
      ],
      "execution_count": 0,
      "outputs": []
    },
    {
      "metadata": {
        "id": "iXzwSF-FPY9x",
        "colab_type": "code",
        "colab": {}
      },
      "cell_type": "code",
      "source": [
        "a.std() # Standard deviation of elements in a"
      ],
      "execution_count": 0,
      "outputs": []
    },
    {
      "metadata": {
        "id": "Kx8ODmW-PY90",
        "colab_type": "code",
        "colab": {}
      },
      "cell_type": "code",
      "source": [
        "a.sum() # Sums the elements in the array a"
      ],
      "execution_count": 0,
      "outputs": []
    },
    {
      "metadata": {
        "id": "LMl3rQSLPY93",
        "colab_type": "code",
        "colab": {}
      },
      "cell_type": "code",
      "source": [
        "a.argmin() # Returns the minimum argument in the array a"
      ],
      "execution_count": 0,
      "outputs": []
    },
    {
      "metadata": {
        "id": "-EtW_fOmPY95",
        "colab_type": "code",
        "colab": {}
      },
      "cell_type": "code",
      "source": [
        "a.argmax() # Returns the maximum argument in the array a"
      ],
      "execution_count": 0,
      "outputs": []
    },
    {
      "metadata": {
        "id": "5EAsciq7PY97",
        "colab_type": "code",
        "colab": {}
      },
      "cell_type": "code",
      "source": [
        "a.shape # Returns the shape of the NumPy array a"
      ],
      "execution_count": 0,
      "outputs": []
    },
    {
      "metadata": {
        "id": "jgkrh2AcPY99",
        "colab_type": "code",
        "colab": {}
      },
      "cell_type": "code",
      "source": [
        "a.dtype # Returns the type of the NumPy array a"
      ],
      "execution_count": 0,
      "outputs": []
    },
    {
      "metadata": {
        "id": "tckP5d8CPY-A",
        "colab_type": "text"
      },
      "cell_type": "markdown",
      "source": [
        "### Special Operations of NumPy Arrays\n",
        "<a id=\"Special Operations Involving NumPy Arrays\"> </a>\n",
        "\n",
        "This subsection looks at special operations that may be performed on NumPy arrays. The first special operation that we illustrate is the ability to filter NumPy arrays based on conditions. The following code block shows how we may use an inequality to create an array of boolean values based on another NumPy array.\n",
        "\n",
        "[Back to Table of Contents](#Table of Contents)<br>"
      ]
    },
    {
      "metadata": {
        "id": "NDqyj9IEPY-B",
        "colab_type": "code",
        "colab": {}
      },
      "cell_type": "code",
      "source": [
        "b = a>4\n",
        "print(b)"
      ],
      "execution_count": 0,
      "outputs": []
    },
    {
      "metadata": {
        "id": "6cgVSi_7PY-H",
        "colab_type": "text"
      },
      "cell_type": "markdown",
      "source": [
        "Multiplying the boolean array with the original array allows us to set all values not meeting the specified condition to zero."
      ]
    },
    {
      "metadata": {
        "id": "vvdhUBi1PY-I",
        "colab_type": "code",
        "colab": {}
      },
      "cell_type": "code",
      "source": [
        "a*b"
      ],
      "execution_count": 0,
      "outputs": []
    },
    {
      "metadata": {
        "id": "UMmS6HMvPY-K",
        "colab_type": "text"
      },
      "cell_type": "markdown",
      "source": [
        "We may also use the boolean array to specify user-defined values for the entries in the original array that do not meet the condition."
      ]
    },
    {
      "metadata": {
        "id": "ODl5WqD5PY-M",
        "colab_type": "code",
        "colab": {}
      },
      "cell_type": "code",
      "source": [
        "a[b==False]=999\n",
        "print(a)"
      ],
      "execution_count": 0,
      "outputs": []
    },
    {
      "metadata": {
        "id": "_GJPZkt5PY-P",
        "colab_type": "text"
      },
      "cell_type": "markdown",
      "source": [
        "The following cell shows two NumPy methods that allow us to flatten a multi-dimensional array to a one-dimensional array."
      ]
    },
    {
      "metadata": {
        "id": "WLQQmDbrPY-P",
        "colab_type": "code",
        "colab": {}
      },
      "cell_type": "code",
      "source": [
        "a = np.arange(12).reshape((3,4)) # Uses the numbers 0,...,11 to create an array with 3 rows and 4 columns\n",
        "print(\"The original array is\\n\\n\",a,\"\\n\")\n",
        "print(\"Using ravel(), we get\",a.ravel(),\"\\n\")\n",
        "print(\"Using flatten(), we get\",a.flatten(),\"\\n\")\n",
        "print(\"It is important to note that the array is still defined as the original\\n\\n\",a,\"\\n\")"
      ],
      "execution_count": 0,
      "outputs": []
    },
    {
      "metadata": {
        "id": "qvDhzJWDPY-T",
        "colab_type": "text"
      },
      "cell_type": "markdown",
      "source": [
        "### Accessing Elements of NumPy Arrays\n",
        "<a id=\"Accessing Elements of NumPy Arrays\"> </a>\n",
        "\n",
        "This subsection looks at how to access elements of a NumPy arrays. The following code block shows basic methods that can be used to access elements or portions of a NumPy array. It is important to keep in mind that Python and NumPy both consider 0 to be the first index. In other words, the first row of an array is row 0.\n",
        "\n",
        "[Back to Table of Contents](#Table of Contents)<br>"
      ]
    },
    {
      "metadata": {
        "id": "Bk3TBZayPY-U",
        "colab_type": "code",
        "colab": {}
      },
      "cell_type": "code",
      "source": [
        "a[1,1] # Access the element in the second row, second column of array a."
      ],
      "execution_count": 0,
      "outputs": []
    },
    {
      "metadata": {
        "id": "Yqi_drbNPY-X",
        "colab_type": "code",
        "colab": {}
      },
      "cell_type": "code",
      "source": [
        "a[:,1] # Access the second column of the array a."
      ],
      "execution_count": 0,
      "outputs": []
    },
    {
      "metadata": {
        "id": "rAgWuCGKPY-a",
        "colab_type": "code",
        "colab": {}
      },
      "cell_type": "code",
      "source": [
        "a[1,:] # Access the second row of the array a."
      ],
      "execution_count": 0,
      "outputs": []
    },
    {
      "metadata": {
        "id": "nQRyQrLRPY-e",
        "colab_type": "text"
      },
      "cell_type": "markdown",
      "source": [
        "The following cell illustrates the `nditer` method that allows us to iterate over all values in a NumPy array. When using this method, we can specify the `order` to control whether we iterate by columns or by rows. Specifying `order = 'C'` tells NumPy to use *C-style* order that processes records across rows. Specifying `order = 'F'` tells NumPy to use *Fortran-style* order that processes records down columns."
      ]
    },
    {
      "metadata": {
        "id": "CKeE_l2SPY-e",
        "colab_type": "code",
        "colab": {}
      },
      "cell_type": "code",
      "source": [
        "a = np.arange(12).reshape((3,4)) # Uses the numbers 0,...,11 to create an array with 3 rows and 4 columns\n",
        "print(\"The original array is\\n\\n\",a,\"\\n\")\n",
        "\n",
        "print(\"We will now iterate over the array using C-style order.\")\n",
        "for x in np.nditer(a,order = 'C'):\n",
        "    print(x)\n",
        "    \n",
        "print(\"\\nWe will now iterate over the array using Fortran-style order.\")\n",
        "for x in np.nditer(a,order = 'F'):\n",
        "    print(x)"
      ],
      "execution_count": 0,
      "outputs": []
    },
    {
      "metadata": {
        "id": "V7g4UEXXPY-i",
        "colab_type": "text"
      },
      "cell_type": "markdown",
      "source": [
        "## Random Number Generation\n",
        "<a id=\"Random Number Generation\"> </a>\n",
        "\n",
        "Although NumPy has several more interesting capabilities, we will conclude this section by looking at NumPy's random number generation functionalities. The following code block shows how we can generate an array of random numbers drawn from the interval [0, 1) with a user-specified shape.\n",
        "\n",
        "[Back to Table of Contents](#Table of Contents)<br>"
      ]
    },
    {
      "metadata": {
        "id": "LdH4o_NNPY-j",
        "colab_type": "code",
        "colab": {}
      },
      "cell_type": "code",
      "source": [
        "np.random.rand(3,4) # Generates an array of random numbers with three rows and four columns"
      ],
      "execution_count": 0,
      "outputs": []
    },
    {
      "metadata": {
        "id": "2QzydnHHPY-l",
        "colab_type": "text"
      },
      "cell_type": "markdown",
      "source": [
        "The following code block shows how we can generate an array of random integers numbers drawn from a user-specified interval.\n",
        "\n",
        "[Back to Table of Contents](#Table of Contents)<br>"
      ]
    },
    {
      "metadata": {
        "id": "iJG8ifOrPY-m",
        "colab_type": "code",
        "colab": {}
      },
      "cell_type": "code",
      "source": [
        "np.random.randint(1,101,25) # Randomly draws 25 integers from the interval [1,101)."
      ],
      "execution_count": 0,
      "outputs": []
    },
    {
      "metadata": {
        "id": "3fADc7QHPY-p",
        "colab_type": "text"
      },
      "cell_type": "markdown",
      "source": [
        "The following code block shows how we can randomly select elements from an existing array (in this example *a*). The function arguments specify the array to select from, the number of elements to select, and whether or not the sampling should be with replacement.\n",
        "\n",
        "[Back to Table of Contents](#Table of Contents)<br>"
      ]
    },
    {
      "metadata": {
        "id": "48oH-7Y_PY-q",
        "colab_type": "code",
        "colab": {}
      },
      "cell_type": "code",
      "source": [
        "a = np.random.randint(1,101,25)\n",
        "print(\"The original array is\",a)\n",
        "\n",
        "print(\"The randomly drawn values are\",np.random.choice(a,10,True))"
      ],
      "execution_count": 0,
      "outputs": []
    },
    {
      "metadata": {
        "id": "SaOxCX-GPY-t",
        "colab_type": "text"
      },
      "cell_type": "markdown",
      "source": [
        "Using two arrays, one for values and one for probabilities, we can define a custom probability distribution by passing the probability array as an additional argument to the `choice` function. This is demonstrated below.\n",
        "\n",
        "[Back to Table of Contents](#Table of Contents)<br>"
      ]
    },
    {
      "metadata": {
        "id": "VkDLvNwqPY-u",
        "colab_type": "code",
        "colab": {}
      },
      "cell_type": "code",
      "source": [
        "support = np.arange(5)\n",
        "probabilities = [0.3, 0.2, 0.1, 0.2, 0.2]\n",
        "\n",
        "distribution = np.random.choice(support,1000,True,probabilities)\n",
        "\n",
        "import matplotlib.pyplot as plt\n",
        "tnrfont = {'fontname':'Times New Roman'}\n",
        "\n",
        "fig, ax = plt.subplots(figsize=(12,8))\n",
        "ax.hist(distribution)\n",
        "ax.set_title('Histogram of Randomly Generated Values',fontsize=25)\n",
        "ax.set_xlabel('Value',fontsize = 20)\n",
        "ax.set_ylabel('Occurences',fontsize = 20)\n",
        "ax.xaxis.set_tick_params(labelsize=20)\n",
        "ax.yaxis.set_tick_params(labelsize=20)\n",
        "plt.show() "
      ],
      "execution_count": 0,
      "outputs": []
    },
    {
      "metadata": {
        "id": "Bgxsi3oSPY-y",
        "colab_type": "text"
      },
      "cell_type": "markdown",
      "source": [
        "In addition to custom distributions, there are several well-known distributions that may be selected. The following code block demonstrates randomly sampling from a Normal distribution.\n",
        "\n",
        "[Back to Table of Contents](#Table of Contents)<br>"
      ]
    },
    {
      "metadata": {
        "id": "XnpL3SNBPY-z",
        "colab_type": "code",
        "colab": {}
      },
      "cell_type": "code",
      "source": [
        "mean = 1000\n",
        "sd = 100\n",
        "distribution = np.random.normal(mean,sd,10000)\n",
        "\n",
        "import matplotlib.pyplot as plt\n",
        "tnrfont = {'fontname':'Times New Roman'}\n",
        "\n",
        "fig, ax = plt.subplots(figsize=(12,8))\n",
        "ax.hist(distribution,bins = 50)\n",
        "ax.set_title('Histogram of Randomly Generated Values',fontsize=25)\n",
        "ax.set_xlabel('Value',fontsize = 20)\n",
        "ax.set_ylabel('Occurences',fontsize = 20)\n",
        "ax.xaxis.set_tick_params(labelsize=20)\n",
        "ax.yaxis.set_tick_params(labelsize=20)\n",
        "plt.show()"
      ],
      "execution_count": 0,
      "outputs": []
    },
    {
      "metadata": {
        "id": "5fUkfDV5PY-1",
        "colab_type": "text"
      },
      "cell_type": "markdown",
      "source": [
        "The following code block demonstrates randomly sampling from a Poisson distribution.\n",
        "\n",
        "[Back to Table of Contents](#Table of Contents)<br>"
      ]
    },
    {
      "metadata": {
        "id": "kiRFHbhqPY-4",
        "colab_type": "code",
        "colab": {}
      },
      "cell_type": "code",
      "source": [
        "mean = 2\n",
        "distribution = np.random.poisson(mean,10000)\n",
        "\n",
        "import matplotlib.pyplot as plt\n",
        "tnrfont = {'fontname':'Times New Roman'}\n",
        "\n",
        "fig, ax = plt.subplots(figsize=(12,8))\n",
        "ax.hist(distribution,bins = 50)\n",
        "ax.set_title('Histogram of Randomly Generated Values',fontsize=25)\n",
        "ax.set_xlabel('Value',fontsize = 20)\n",
        "ax.set_ylabel('Occurences',fontsize = 20)\n",
        "ax.xaxis.set_tick_params(labelsize=20)\n",
        "ax.yaxis.set_tick_params(labelsize=20)\n",
        "plt.show()"
      ],
      "execution_count": 0,
      "outputs": []
    },
    {
      "metadata": {
        "id": "oNji_05UPY-7",
        "colab_type": "text"
      },
      "cell_type": "markdown",
      "source": [
        "When employing heuristic solution procedures, a common task is generating a permutation of a vector that represents a solution. NumPy allows random permutations of an array to be generated very simply using the `permutation` routine. The following code block shows an example.  \n",
        "\n",
        "[Back to Table of Contents](#Table of Contents)<br>"
      ]
    },
    {
      "metadata": {
        "id": "3xG2cigUPY-8",
        "colab_type": "code",
        "colab": {}
      },
      "cell_type": "code",
      "source": [
        "mysequence = np.arange(11)\n",
        "print(\"The original sequence is:\", mysequence)\n",
        "print(\"A permutation of the original sequence is:\", np.random.permutation(mysequence))\n",
        "print(\"Another permutation of the original sequence is:\", np.random.permutation(mysequence))\n",
        "\n",
        "print(\"\\n\")\n",
        "mysequence = np.array([1,3,5,7,9,11,13])\n",
        "print(\"The original sequence is:\", mysequence)\n",
        "print(\"A permutation of the original sequence is:\", np.random.permutation(mysequence))\n",
        "print(\"Another permutation of the original sequence is:\", np.random.permutation(mysequence))"
      ],
      "execution_count": 0,
      "outputs": []
    },
    {
      "metadata": {
        "id": "0dRaayOSPY--",
        "colab_type": "text"
      },
      "cell_type": "markdown",
      "source": [
        "NumPy also allows us to determine percentiles of data stored in a NumPy array. The following example shows how to determine several percentile values for a randomly sample Normal distribution.\n",
        "\n",
        "[Back to Table of Contents](#Table of Contents)<br>"
      ]
    },
    {
      "metadata": {
        "id": "kgT2vpuZPY-_",
        "colab_type": "code",
        "colab": {}
      },
      "cell_type": "code",
      "source": [
        "mean = 1000\n",
        "sd = 100\n",
        "distribution = np.random.normal(mean,sd,10000)\n",
        "\n",
        "print(\"The 50th and 75th percentiles of the defined distribution are\",np.percentile(distribution,[50,75]),\"respectively\")\n",
        "\n",
        "print(\"The 99th percentiles of the defined distribution is\",np.percentile(distribution,99))\n"
      ],
      "execution_count": 0,
      "outputs": []
    },
    {
      "metadata": {
        "id": "FWpBGCWXPY_B",
        "colab_type": "text"
      },
      "cell_type": "markdown",
      "source": [
        "# Pandas Basics\n",
        "<a id=\"Pandas Basics\"> </a>\n",
        "\n",
        "From https://en.wikipedia.org/wiki/Pandas_(software) (accessed 1/7/2018):\n",
        "\n",
        ">Pandas is a software library written for the Python programming language for data manipulation and analysis. In particular, it offers data structures and operations for manipulating numerical tables and time series. It is free software released under the three-clause BSD license. The name is derived from the term \"panel data\", an econometrics term for multidimensional, structured data sets. Major features of the library are:\n",
        "\n",
        "> - DataFrame object for data manipulation with integrated indexing.\n",
        "> - Tools for reading and writing data between in-memory data structures and different file formats.\n",
        "> - Data alignment and integrated handling of missing data.\n",
        "> - Reshaping and pivoting of data sets.\n",
        "> - Label-based slicing, fancy indexing, and subsetting of large data sets.\n",
        "> - Data structure column insertion and deletion.\n",
        "> - Group by engine allowing split-apply-combine operations on data sets.\n",
        "> - Data set merging and joining.\n",
        "> - Hierarchical axis indexing to work with high-dimensional data in a lower-dimensional data structure.\n",
        "> - Time series-functionality: Date range generation and frequency conversion, moving window statistics, moving window linear regressions, date shifting and lagging.\n",
        "> The library is highly optimized for performance, with critical code paths written in Cython or C.\n",
        "\n",
        "[Back to Table of Contents](#Table of Contents)<br>"
      ]
    },
    {
      "metadata": {
        "id": "qwE5bheOPY_C",
        "colab_type": "text"
      },
      "cell_type": "markdown",
      "source": [
        "### Importing Data Using Pandas\n",
        "<a id=\"Importing Data Using Pandas\"> </a>\n",
        "\n",
        "The following code block imports the Pandas library, defines a small dataframe, and uses the `head()` function to print the first five rows. Actually, the dataframe is first being defined as a dictionary that is converted to a dataframe by the `pd.dataframe()` function call.\n",
        "\n",
        "[Back to Table of Contents](#Table of Contents)<br>"
      ]
    },
    {
      "metadata": {
        "id": "UCPLi6iLPY_C",
        "colab_type": "code",
        "colab": {}
      },
      "cell_type": "code",
      "source": [
        "import pandas as pd\n",
        "\n",
        "df = pd.DataFrame({'Column 1': [1, 2, 3, 4, 5, 6, 7, 8, 9], \n",
        "     'Column 2': [11, 12, 13, 14, 15, 16, 17, 18, 19],\n",
        "     'Column 3': [21, 22, 23, 24, 25, 26, 27, 28, 29]})\n",
        "\n",
        "print(df.head())\n",
        "del(df)"
      ],
      "execution_count": 0,
      "outputs": []
    },
    {
      "metadata": {
        "id": "NsI-TXm6PY_F",
        "colab_type": "text"
      },
      "cell_type": "markdown",
      "source": [
        "In practice, it is most common to create data frames by reading in data from other file formats or the internet. One of the applications presented later in this notebook illustrates how to read data from a *csv* (comma separated values) file format into a pandas dataframe. The following code block shows how to read a *csv* file format from the internet. Actually, although the file extension indicates that the file is formatted using a *csv* format, semi-colons are actually the delimter that separates data in the file. Thus, we pass the argument `sep=';'` to the `read.table()` function to let Pandas know that we want the data separated by semi-colons.\n",
        "\n",
        "The dataset was collected by a large Brazillian logistics company over 60 days and was stored on the UC Irvine repository of datasets for machine learning at the time of writing (1/8/2018). To avoid errors arising if the data file is moved, we include the data as `pickle` file in the *data* folder and execute the dataframe import in a `try-except` block. Essentially, Python will attempt to download the data file, and if it exists, the data will be stored as a Pandas dataframe, the data will be used to update the pickle file, and the first five rows of the dataframe will be printed. If the data link is no longer valied, a message will print letting the user know that the data file no longer exists and that the data is being read from the existing pickle file.\n",
        "\n",
        "The pickle format is Python-specific and is optimized for storing and retrieving Python objects. In general, if you ever need to store data in some intermediate form after performing analysis in Python, pickle files are a good way to store the files since they will include the most up to dat content of the object along with information on the data structure.\n",
        "\n",
        "[Back to Table of Contents](#Table of Contents)<br>"
      ]
    },
    {
      "metadata": {
        "id": "R8j0dwstPY_F",
        "colab_type": "code",
        "colab": {}
      },
      "cell_type": "code",
      "source": [
        "import pandas as pd\n",
        "try:\n",
        "    df = pd.read_table('http://archive.ics.uci.edu/ml/machine-learning-databases/00409/'\n",
        "                            'Daily_Demand_Forecasting_Orders.csv', sep=';')\n",
        "    df.to_pickle('data/pandas_basics_data.pkl')\n",
        "    print(df.head())\n",
        "except:\n",
        "    print('The data file no longer exists!\\nReading from pickle file.')\n",
        "    df = pd.read_pickle('data/pandas_basics_data.pkl')\n",
        "    print(df.head())"
      ],
      "execution_count": 0,
      "outputs": []
    },
    {
      "metadata": {
        "id": "AAvqCYUJPY_I",
        "colab_type": "text"
      },
      "cell_type": "markdown",
      "source": [
        "In addition to the `head()` function, Pandas also has a tail function that allows you to veiw records at the end of a dataframe. The following code block uses the `tail()` function to view the last 10 records of our dataframe.\n",
        "\n",
        "[Back to Table of Contents](#Table of Contents)<br>"
      ]
    },
    {
      "metadata": {
        "id": "aXaPvGyLPY_I",
        "colab_type": "code",
        "colab": {}
      },
      "cell_type": "code",
      "source": [
        "df.tail(10)"
      ],
      "execution_count": 0,
      "outputs": []
    },
    {
      "metadata": {
        "id": "4DLOAVKkPY_K",
        "colab_type": "text"
      },
      "cell_type": "markdown",
      "source": [
        "### Modifying a Pandas Dataframe\n",
        "<a id=\"Modifying a Pandas Dataframe\"> </a>\n",
        "\n",
        "We can rename the columns of a Pandas dataframe by accessing its `columns` attibute as shown below.\n",
        "\n",
        "[Back to Table of Contents](#Table of Contents)<br>"
      ]
    },
    {
      "metadata": {
        "id": "iTeU1lRQPY_L",
        "colab_type": "code",
        "colab": {}
      },
      "cell_type": "code",
      "source": [
        "df.columns = ['Week of Month', 'Day of Week', 'Non-urgent Order', 'Urgent Order',\n",
        "              'Order Type A','Order Type B','Order Type C', 'Fiscal Sector Orders', \n",
        "              'Traffic Controller Orders', 'Banking Orders (1)', 'Banking Orders (2)','Banking Orders (3)', 'Total Orders']\n",
        "df.head()"
      ],
      "execution_count": 0,
      "outputs": []
    },
    {
      "metadata": {
        "id": "hFDO39UkPY_P",
        "colab_type": "text"
      },
      "cell_type": "markdown",
      "source": [
        "We can drop columns from a Pandas dataframe using the `drop` function as shown in the following code block. The `axis=1` argument specifies that we are dropping columns, whereas an `axis=0` argument would be used in cases where we want to drop rows.\n",
        "\n",
        "[Back to Table of Contents](#Table of Contents)<br>"
      ]
    },
    {
      "metadata": {
        "id": "a7X3lwYWPY_P",
        "colab_type": "code",
        "colab": {}
      },
      "cell_type": "code",
      "source": [
        "df.drop(['Fiscal Sector Orders', 'Traffic Controller Orders', 'Banking Orders (1)', 'Banking Orders (2)',\\\n",
        "         'Banking Orders (3)'], axis = 1)"
      ],
      "execution_count": 0,
      "outputs": []
    },
    {
      "metadata": {
        "id": "2JQ4gudlPY_R",
        "colab_type": "text"
      },
      "cell_type": "markdown",
      "source": [
        "It is very important to note that our previous operation results in no permanent change to the dataframe object because we did not specify an assignment. This can be seen by executing the following code block that prints the head of the df object. In particular, note that all of the columns we specified to be dropped still exist.\n",
        "\n",
        "[Back to Table of Contents](#Table of Contents)<br>"
      ]
    },
    {
      "metadata": {
        "id": "sSBGeW8FPY_S",
        "colab_type": "code",
        "colab": {}
      },
      "cell_type": "code",
      "source": [
        "df.head()"
      ],
      "execution_count": 0,
      "outputs": []
    },
    {
      "metadata": {
        "id": "CbuLKyJSPY_T",
        "colab_type": "text"
      },
      "cell_type": "markdown",
      "source": [
        "If we wanted the drop column operation to be permanent, we coul have overwritten the existing dataframe using `df = df.drop(['Fiscal Sector Orders', 'Traffic Controller Orders', 'Banking Orders (1)', 'Banking Orders (2)','Banking Orders (3)'])`. \n",
        "\n",
        "Another approach is to supply the additional argument `inplace = True`. This latter approach is demonstrated in the next code block.\n",
        "\n",
        "**Note: Once you run the following cell, the dataframe will no longer contain the dropped columns. Thus, if you rerun any cells that reference the dropped columns you will get an error unless you import the dataframe and rename the columns as is done earlier.**\n",
        "\n",
        "[Back to Table of Contents](#Table of Contents)<br>"
      ]
    },
    {
      "metadata": {
        "id": "rTHo2UUHPY_U",
        "colab_type": "code",
        "colab": {}
      },
      "cell_type": "code",
      "source": [
        "df.drop(['Fiscal Sector Orders', 'Traffic Controller Orders', 'Banking Orders (1)', 'Banking Orders (2)',\\\n",
        "         'Banking Orders (3)'], axis = 1,inplace=True)\n",
        "\n",
        "df.head()"
      ],
      "execution_count": 0,
      "outputs": []
    },
    {
      "metadata": {
        "id": "wtXXwIBYPY_Z",
        "colab_type": "text"
      },
      "cell_type": "markdown",
      "source": [
        "### Manipulating Data in a Pandas Dataframe\n",
        "<a id=\"Manipulating Data in a Pandas Dataframe\"> </a>\n",
        "\n",
        "This section looks at a limited selection of the methods that are available to slice and wrangle data that is stored as a Pandas dataframe (these are not my terms, but instead are commonly used in the field of data science). Before beginning such efforts, we often must investigate the data to better understand its size and the formats used. The following cell shows how to determine the unique values in a specific dataframe column.\n",
        "\n",
        "[Back to Table of Contents](#Table of Contents)<br>"
      ]
    },
    {
      "metadata": {
        "id": "PGi3CyxIPY_Z",
        "colab_type": "code",
        "colab": {}
      },
      "cell_type": "code",
      "source": [
        "df['Day of Week'].unique()"
      ],
      "execution_count": 0,
      "outputs": []
    },
    {
      "metadata": {
        "id": "v8fE--XZPY_c",
        "colab_type": "text"
      },
      "cell_type": "markdown",
      "source": [
        "If we wanted to extract the values in a particular column, we can use the `values` attribute.\n",
        "\n",
        "[Back to Table of Contents](#Table of Contents)<br>"
      ]
    },
    {
      "metadata": {
        "id": "nG5ztQF4PY_d",
        "colab_type": "code",
        "colab": {}
      },
      "cell_type": "code",
      "source": [
        "df['Day of Week'].values"
      ],
      "execution_count": 0,
      "outputs": []
    },
    {
      "metadata": {
        "id": "_qg_ljCLPY_g",
        "colab_type": "text"
      },
      "cell_type": "markdown",
      "source": [
        "The `describe()` function provides several summary statistics for each comlumn in a Pandas dataframe.\n",
        "\n",
        "[Back to Table of Contents](#Table of Contents)<br>"
      ]
    },
    {
      "metadata": {
        "id": "e4hoRVzoPY_h",
        "colab_type": "code",
        "colab": {}
      },
      "cell_type": "code",
      "source": [
        "df.describe()"
      ],
      "execution_count": 0,
      "outputs": []
    },
    {
      "metadata": {
        "id": "3x3jG9sXPY_j",
        "colab_type": "text"
      },
      "cell_type": "markdown",
      "source": [
        "We can select individual columns and rows of a Pandas dataframe in many ways. The following cell shows how to select columns by column name using the `loc` method. In this case, we return all rows for the 'Week of Month', 'Day of Week', and 'Total Orders' columns, and only print the first five rows.\n",
        "\n",
        "[Back to Table of Contents](#Table of Contents)<br>"
      ]
    },
    {
      "metadata": {
        "id": "rm25dQIEPY_j",
        "colab_type": "code",
        "colab": {}
      },
      "cell_type": "code",
      "source": [
        "df.loc[:,['Week of Month','Day of Week','Total Orders']].head()"
      ],
      "execution_count": 0,
      "outputs": []
    },
    {
      "metadata": {
        "id": "3EOb-SWOPY_m",
        "colab_type": "text"
      },
      "cell_type": "markdown",
      "source": [
        "The same slicing can be achieved using column index values using the `iloc` method. Recall that in our dataframe with dopped columns, 'Week of Month' is the first column (column 0), 'Day of Week' is the second column (column 1), and 'Total Orders' is the eighth column (column 7).\n",
        "\n",
        "[Back to Table of Contents](#Table of Contents)<br>"
      ]
    },
    {
      "metadata": {
        "id": "KyV56t5YPY_n",
        "colab_type": "code",
        "colab": {}
      },
      "cell_type": "code",
      "source": [
        "df.iloc[:,[0,1,7]].head()"
      ],
      "execution_count": 0,
      "outputs": []
    },
    {
      "metadata": {
        "id": "igOiQnnbPY_p",
        "colab_type": "text"
      },
      "cell_type": "markdown",
      "source": [
        "The following cell shows how to pull the first three rows of the designated column slice. \n",
        "\n",
        "[Back to Table of Contents](#Table of Contents)<br>"
      ]
    },
    {
      "metadata": {
        "id": "IonAFmxoPY_p",
        "colab_type": "code",
        "colab": {}
      },
      "cell_type": "code",
      "source": [
        "df.iloc[0:3,[0,1,7]]"
      ],
      "execution_count": 0,
      "outputs": []
    },
    {
      "metadata": {
        "id": "GJRRyflkPY_t",
        "colab_type": "text"
      },
      "cell_type": "markdown",
      "source": [
        "The following cell shows how to pull select non-consecutive rows of the designated column slice.\n",
        "\n",
        "[Back to Table of Contents](#Table of Contents)<br>"
      ]
    },
    {
      "metadata": {
        "id": "U4HlaDvzPY_u",
        "colab_type": "code",
        "colab": {}
      },
      "cell_type": "code",
      "source": [
        "df.iloc[[0,3,6,8,54],[0,1,7]]"
      ],
      "execution_count": 0,
      "outputs": []
    },
    {
      "metadata": {
        "id": "_545XmG0PY_1",
        "colab_type": "text"
      },
      "cell_type": "markdown",
      "source": [
        "The following code block shows how we can limit the records based on a condition. Specifically, the following code block returns entries in the dataframe where the value in the 'Total Orders' column exceeds 500.\n",
        "\n",
        "[Back to Table of Contents](#Table of Contents)<br>"
      ]
    },
    {
      "metadata": {
        "id": "ZbZPeP8mPY_2",
        "colab_type": "code",
        "colab": {}
      },
      "cell_type": "code",
      "source": [
        "df[df['Total Orders']>500]"
      ],
      "execution_count": 0,
      "outputs": []
    },
    {
      "metadata": {
        "id": "ZPd-hdeGPY_5",
        "colab_type": "text"
      },
      "cell_type": "markdown",
      "source": [
        "The following code block shows how we can use lists to limit records in a Pandas dataframe based limit on whether or not row values are in the list.\n",
        "\n",
        "[Back to Table of Contents](#Table of Contents)<br>"
      ]
    },
    {
      "metadata": {
        "id": "kxsO564uPY_5",
        "colab_type": "code",
        "colab": {}
      },
      "cell_type": "code",
      "source": [
        "df[df['Day of Week'].isin([2,4])]"
      ],
      "execution_count": 0,
      "outputs": []
    },
    {
      "metadata": {
        "id": "nUNlWB04PY_7",
        "colab_type": "text"
      },
      "cell_type": "markdown",
      "source": [
        "The following code block shows that we can use multiple criteria to flter a Pandas dataframe column.\n",
        "\n",
        "**Note: The parentheses around each condition are necessary!!!**\n",
        "\n",
        "[Back to Table of Contents](#Table of Contents)<br>"
      ]
    },
    {
      "metadata": {
        "id": "MlHMM1_CPY_8",
        "colab_type": "code",
        "colab": {}
      },
      "cell_type": "code",
      "source": [
        "df[(df['Total Orders']>500) & (df['Day of Week'].isin([2,4]))]"
      ],
      "execution_count": 0,
      "outputs": []
    },
    {
      "metadata": {
        "id": "J1bHvYjpPY_-",
        "colab_type": "text"
      },
      "cell_type": "markdown",
      "source": [
        "### Aggregating and Summarizing a Pandas Dataframe\n",
        "<a id=\"Aggregating and Summarizing a Pandas Dataframe\"> </a>\n",
        "\n",
        "In addition to slicing data that exists in a Pandas dataframe object, we can aggregate the data using the `groupby()` function. The following code block aggregates the data by 'Day of Week' and immediately applies the `sum()` function to the grouped object.\n",
        "\n",
        "[Back to Table of Contents](#Table of Contents)<br>"
      ]
    },
    {
      "metadata": {
        "id": "bzzkFlq3PY_-",
        "colab_type": "code",
        "colab": {}
      },
      "cell_type": "code",
      "source": [
        "df.groupby('Day of Week').sum()"
      ],
      "execution_count": 0,
      "outputs": []
    },
    {
      "metadata": {
        "id": "g5oACGRcPY__",
        "colab_type": "text"
      },
      "cell_type": "markdown",
      "source": [
        "Of interest to Microsoft Excel users, Pandas also include a `pivot_table()` function that mimics an Excel pivot table. Information on the function, accessed using the `help()` function, follows.\n",
        "\n",
        "[Back to Table of Contents](#Table of Contents)<br>"
      ]
    },
    {
      "metadata": {
        "id": "hgjdG1ajPY__",
        "colab_type": "code",
        "colab": {}
      },
      "cell_type": "code",
      "source": [
        "help(pd.pivot_table)"
      ],
      "execution_count": 0,
      "outputs": []
    },
    {
      "metadata": {
        "id": "AlTBWm2CPZAD",
        "colab_type": "text"
      },
      "cell_type": "markdown",
      "source": [
        "The following code block  creates a pivot table that sums the total orders by 'Day of Week' and 'Week of Month'. Note that the sum function if from NumPy!"
      ]
    },
    {
      "metadata": {
        "id": "2pOMGXfTPZAD",
        "colab_type": "code",
        "colab": {}
      },
      "cell_type": "code",
      "source": [
        "import numpy as np\n",
        "pd.pivot_table(df, values='Total Orders', index=['Week of Month'], columns=['Day of Week'],aggfunc=np.sum)"
      ],
      "execution_count": 0,
      "outputs": []
    },
    {
      "metadata": {
        "id": "6jLCFKjBPZAE",
        "colab_type": "text"
      },
      "cell_type": "markdown",
      "source": [
        "Note in the previous example that we had missing data when the 'Day of Week' is two and the 'Week of Month' is one. The `pivot_table()` function allows you to define a default fill value for cases where data is missing. The following code block creates the same pivot table, but fills missing values with 0.\n",
        "\n",
        "[Back to Table of Contents](#Table of Contents)<br>"
      ]
    },
    {
      "metadata": {
        "id": "WJVJvHNXPZAE",
        "colab_type": "code",
        "colab": {}
      },
      "cell_type": "code",
      "source": [
        "import numpy as np\n",
        "pd.pivot_table(df, values='Total Orders', index=['Week of Month'], columns=['Day of Week'],aggfunc=np.sum,fill_value=0)"
      ],
      "execution_count": 0,
      "outputs": []
    },
    {
      "metadata": {
        "id": "p57Pe0L9PZAG",
        "colab_type": "text"
      },
      "cell_type": "markdown",
      "source": [
        "Plotting a Pandas pivot table can be done very simply by appending `.plot()` to the pivotable statement and adding an appropriate plotting axis. The following code block provides an example.\n",
        "\n",
        "**Note: Pandas plotting functionality utilizes the `matplotlib` library. Although this notebook does not discuss `matplotlib`, it recieves much attention in published books and online communities.**\n",
        "\n",
        "[Back to Table of Contents](#Table of Contents)<br>"
      ]
    },
    {
      "metadata": {
        "id": "TsE6IxOvPZAG",
        "colab_type": "code",
        "colab": {}
      },
      "cell_type": "code",
      "source": [
        "import matplotlib.pyplot as plt\n",
        "\n",
        "fig, ax = plt.subplots(figsize=(12,8))\n",
        "pd.pivot_table(df, values='Total Orders', index=['Week of Month'],\\\n",
        "               columns=['Day of Week'],aggfunc=np.sum,fill_value=0).plot(ax=ax)\n",
        "ax.set_title('Plot of Pandas Pivot Table',fontsize=25)\n",
        "ax.set_xlabel('Week of Month',fontsize = 20)\n",
        "ax.set_ylabel('Sum of Total Orders',fontsize = 20)\n",
        "ax.xaxis.set_tick_params(labelsize=20)\n",
        "ax.yaxis.set_tick_params(labelsize=20)\n",
        "\n",
        "\n",
        "plt.show()"
      ],
      "execution_count": 0,
      "outputs": []
    },
    {
      "metadata": {
        "id": "J_ddXl2PPZAH",
        "colab_type": "text"
      },
      "cell_type": "markdown",
      "source": [
        "Although we will not elaborate on these capabilities further, Pandas also allows users to define custom function that can be applied to entire data frames. The following code block show an example where the custom function essentially determine the range of values in each column of a Pandas dataframe.\n",
        "\n",
        "[Back to Table of Contents](#Table of Contents)<br>"
      ]
    },
    {
      "metadata": {
        "id": "BwHcTt-fPZAH",
        "colab_type": "code",
        "colab": {}
      },
      "cell_type": "code",
      "source": [
        "df.apply(lambda x: x.max() - x.min())"
      ],
      "execution_count": 0,
      "outputs": []
    },
    {
      "metadata": {
        "id": "KOrH9Sz2PZAJ",
        "colab_type": "text"
      },
      "cell_type": "markdown",
      "source": [
        "# Applications\n",
        "<a id=\"Applications\"> </a>\n",
        "\n",
        "This section of the notebook uses Python to solve problems in different application areas that fall under the umbrella of operations management.\n",
        "\n",
        "[Back to Table of Contents](#Table of Contents)<br>"
      ]
    },
    {
      "metadata": {
        "id": "vcLMXJ9gPZAJ",
        "colab_type": "text"
      },
      "cell_type": "markdown",
      "source": [
        "## Time Series Forecasting\n",
        "<a id=\"Time Series Forecasting\"> </a>\n",
        "\n",
        "The following section will look at some of the time series forecasting capabilities of Python. The following code block reads the data that we will be using for the forecasting demonstration into a `pandas` dataframe. The data provides quarterly sales data for a French company. Once read, the year and quarter is combined into a single cell and set as the index. Once the index is set, the first 15 columns are printed.\n",
        "\n",
        "[Back to Table of Contents](#Table of Contents)<br>"
      ]
    },
    {
      "metadata": {
        "id": "HTAkqVFJPZAK",
        "colab_type": "code",
        "colab": {}
      },
      "cell_type": "code",
      "source": [
        "import pandas as pd\n",
        "import numpy as np\n",
        "\n",
        "data = pd.read_csv('data/French_Company.csv')\n",
        "data['Index'] = data.Year.map(str)+data.Quarter\n",
        "data['Index'] = pd.to_datetime(data['Index'].str.replace(' ', '')) + pd.offsets.QuarterEnd(0)\n",
        "data.set_index(\"Index\",inplace=True)\n",
        "data.head(15)"
      ],
      "execution_count": 0,
      "outputs": []
    },
    {
      "metadata": {
        "id": "yCe57ETcPZAM",
        "colab_type": "text"
      },
      "cell_type": "markdown",
      "source": [
        "The following code block extracts the sales column from the `pandas` dataframe and stores it in an object named *ts*.\n",
        "\n",
        "[Back to Table of Contents](#Table of Contents)<br>"
      ]
    },
    {
      "metadata": {
        "id": "VTpACQ-TPZAM",
        "colab_type": "code",
        "colab": {}
      },
      "cell_type": "code",
      "source": [
        "ts = data['Sales']\n",
        "ts.head(10)"
      ],
      "execution_count": 0,
      "outputs": []
    },
    {
      "metadata": {
        "id": "jmry-LFzPZAN",
        "colab_type": "text"
      },
      "cell_type": "markdown",
      "source": [
        "The following code block plots the times series data stored in the *ts* object.\n",
        "\n",
        "[Back to Table of Contents](#Table of Contents)<br>"
      ]
    },
    {
      "metadata": {
        "id": "qD50HuPdPZAN",
        "colab_type": "code",
        "colab": {}
      },
      "cell_type": "code",
      "source": [
        "import matplotlib.pyplot as plt\n",
        "tnrfont = {'fontname':'Times New Roman'}\n",
        "\n",
        "fig, ax = plt.subplots(figsize=(12,8))\n",
        "ax.plot(ts)\n",
        "ax.set_title('Time Series',fontsize=25)\n",
        "ax.set_xlabel('Time',fontsize = 20)\n",
        "ax.set_ylabel('Value',fontsize = 20)\n",
        "ax.xaxis.set_tick_params(labelsize=20)\n",
        "ax.yaxis.set_tick_params(labelsize=20)\n",
        "plt.show() "
      ],
      "execution_count": 0,
      "outputs": []
    },
    {
      "metadata": {
        "id": "-6ntYZyKPZAP",
        "colab_type": "text"
      },
      "cell_type": "markdown",
      "source": [
        "The following code block plots the times series data stored in the *ts* object along with a moving average forecast. The plot is interactive so that users can see how the forecast changes as the number of periods included in the moving average ($n$) varies.\n",
        "\n",
        "[Back to Table of Contents](#Table of Contents)<br>"
      ]
    },
    {
      "metadata": {
        "id": "R4ArVff8PZAP",
        "colab_type": "code",
        "colab": {}
      },
      "cell_type": "code",
      "source": [
        "from ipywidgets import interact\n",
        "@interact(n = (2, 18, 1))\n",
        "\n",
        "def simulate(n = 2):\n",
        "    moving_avg = ts.rolling(window=n,center=False).mean()\n",
        "    \n",
        "    fig, ax = plt.subplots(figsize=(12,8))\n",
        "    ax.plot(ts)\n",
        "    ax.plot(moving_avg, color='red')\n",
        "    ax.set_title('Weighted Moving Average Forecast',fontsize=25)\n",
        "    ax.set_xlabel('Time',fontsize = 20)\n",
        "    ax.set_ylabel('Value',fontsize = 20)\n",
        "    ax.xaxis.set_tick_params(labelsize=20)\n",
        "    ax.yaxis.set_tick_params(labelsize=20)\n",
        "    plt.show()   "
      ],
      "execution_count": 0,
      "outputs": []
    },
    {
      "metadata": {
        "id": "qQ8pQDJlPZAR",
        "colab_type": "text"
      },
      "cell_type": "markdown",
      "source": [
        "The following code block plots the times series data stored in the *ts* object along with a exponentially weighted moving average forecast. The plot is interactive so that users can see how the forecast changes as the half-life of the weighting ($n$) varies.\n",
        "\n",
        "[Back to Table of Contents](#Table of Contents)<br>"
      ]
    },
    {
      "metadata": {
        "id": "FhDrsd-VPZAR",
        "colab_type": "code",
        "colab": {}
      },
      "cell_type": "code",
      "source": [
        "from ipywidgets import interact\n",
        "@interact(n = (2, 18, 1))\n",
        "\n",
        "def simulate(n = 2):\n",
        "    expwighted_avg = ts.ewm(halflife=n,min_periods=0,adjust=True,ignore_na=False).mean()\n",
        "    \n",
        "    fig, ax = plt.subplots(figsize=(12,8))\n",
        "    ax.plot(ts)\n",
        "    ax.plot(expwighted_avg, color='red')\n",
        "    ax.set_title('Exponential Weighted Moving Average Forecast',fontsize=25)\n",
        "    ax.set_xlabel('Time',fontsize = 20)\n",
        "    ax.set_ylabel('Value',fontsize = 20)\n",
        "    ax.xaxis.set_tick_params(labelsize=20)\n",
        "    ax.yaxis.set_tick_params(labelsize=20)\n",
        "    plt.show()   "
      ],
      "execution_count": 0,
      "outputs": []
    },
    {
      "metadata": {
        "id": "aMOTQV9vPZAT",
        "colab_type": "text"
      },
      "cell_type": "markdown",
      "source": [
        "The following code block decomposes the time series into trend, seasonal, and residual components. These components are plotted with the original time series.\n",
        "\n",
        "[Back to Table of Contents](#Table of Contents)<br>"
      ]
    },
    {
      "metadata": {
        "id": "MZ_fko6GPZAT",
        "colab_type": "code",
        "colab": {}
      },
      "cell_type": "code",
      "source": [
        "from statsmodels.tsa.seasonal import seasonal_decompose\n",
        "decomposition = seasonal_decompose(ts,'multiplicative')\n",
        "\n",
        "trend = decomposition.trend\n",
        "seasonal = decomposition.seasonal\n",
        "residual = decomposition.resid\n",
        "\n",
        "fig, ((ax1,ax2),(ax3,ax4)) = plt.subplots(2,2,figsize=(16,9))\n",
        "ax1.plot(ts, label='Original')\n",
        "ax1.legend(loc='best',fontsize='xx-large')\n",
        "ax1.xaxis.set_tick_params(labelsize=12)\n",
        "ax1.yaxis.set_tick_params(labelsize=12)\n",
        "\n",
        "ax2.plot(trend, label='Trend')\n",
        "ax2.legend(loc='best',fontsize='xx-large')\n",
        "ax2.xaxis.set_tick_params(labelsize=12)\n",
        "ax2.yaxis.set_tick_params(labelsize=12)\n",
        "\n",
        "ax3.plot(seasonal,label='Seasonality')\n",
        "ax3.legend(loc='best',fontsize='xx-large')\n",
        "ax3.xaxis.set_tick_params(labelsize=12)\n",
        "ax3.yaxis.set_tick_params(labelsize=12)\n",
        "\n",
        "ax4.plot(residual, label='Residuals')\n",
        "ax4.legend(loc='best',fontsize='xx-large')\n",
        "ax4.xaxis.set_tick_params(labelsize=12)\n",
        "ax4.yaxis.set_tick_params(labelsize=12)\n",
        "plt.show()    "
      ],
      "execution_count": 0,
      "outputs": []
    },
    {
      "metadata": {
        "id": "qJcPz8CaPZAU",
        "colab_type": "text"
      },
      "cell_type": "markdown",
      "source": [
        "### Triple Exponential Smoothing (Holt-Winters Method)\n",
        "<a id=\"Triple Exponential Smoothing\"> </a>\n",
        "\n",
        "In this section, we will apply triple exponential smoothing (Holt-Winters method) to the time series data to generate a forecast. The following code block provides three functions that will be used to generate the forecast. The function were mostly copied from those found at https://grisha.org/blog/2016/02/17/triple-exponential-smoothing-forecasting-part-iii/ on 1/5/2018. \n",
        "\n",
        "[Back to Table of Contents](#Table of Contents)<br>"
      ]
    },
    {
      "metadata": {
        "id": "bc0bPAoiPZAV",
        "colab_type": "code",
        "colab": {}
      },
      "cell_type": "code",
      "source": [
        "def initial_trend(series, slen):\n",
        "    sum = 0.0\n",
        "    for i in range(slen):\n",
        "        sum += float(series[i+slen] - series[i]) / slen\n",
        "    return sum / slen\n",
        "\n",
        "def initial_seasonal_components(series, slen):\n",
        "    seasonals = {}\n",
        "    season_averages = []\n",
        "    n_seasons = int(len(series)/slen)\n",
        "    # compute season averages\n",
        "    for j in range(n_seasons):\n",
        "        season_averages.append(sum(series[slen*j:slen*j+slen])/float(slen))\n",
        "    # compute initial values\n",
        "    for i in range(slen):\n",
        "        sum_of_vals_over_avg = 0.0\n",
        "        for j in range(n_seasons):\n",
        "            sum_of_vals_over_avg += series[slen*j+i]-season_averages[j]\n",
        "        seasonals[i] = sum_of_vals_over_avg/n_seasons\n",
        "    return seasonals\n",
        "\n",
        "def triple_exponential_smoothing(series, slen, alpha, beta, gamma, n_preds):\n",
        "    result = []\n",
        "    seasonals = initial_seasonal_components(series, slen)\n",
        "    for i in range(len(series)+n_preds):\n",
        "        if i == 0: # initial values\n",
        "            smooth = series[0]\n",
        "            trend = initial_trend(series, slen)\n",
        "            result.append(series[0])\n",
        "            continue\n",
        "        if i >= len(series): # we are forecasting\n",
        "            m = i - len(series) + 1\n",
        "            result.append((smooth + m*trend) + seasonals[i%slen])\n",
        "        else:\n",
        "            val = series[i]\n",
        "            last_smooth, smooth = smooth, alpha*(val-seasonals[i%slen]) + (1-alpha)*(smooth+trend)\n",
        "            trend = beta * (smooth-last_smooth) + (1-beta)*trend\n",
        "            seasonals[i%slen] = gamma*(val-smooth) + (1-gamma)*seasonals[i%slen]\n",
        "            result.append(smooth+trend+seasonals[i%slen])\n",
        "    return result"
      ],
      "execution_count": 0,
      "outputs": []
    },
    {
      "metadata": {
        "id": "G7K20pHtPZAV",
        "colab_type": "text"
      },
      "cell_type": "markdown",
      "source": [
        "The following code block plots the times series data stored in the *ts* object along with the Holt-Winters. The plot is interactive so that users can see how the forecast changes as the smoothing parameters vary.\n",
        "\n",
        "[Back to Table of Contents](#Table of Contents)<br>"
      ]
    },
    {
      "metadata": {
        "id": "22ptA5fvPZAW",
        "colab_type": "code",
        "colab": {}
      },
      "cell_type": "code",
      "source": [
        "@interact(alphav = (0.00, 1.01, 0.05), betav = (0.00, 1.01, 0.05), gammav = (0.00, 1.01, 0.05))\n",
        "\n",
        "def myfunc(alphav = 0.00, betav = 0.00, gammav = 0.00):\n",
        "    myforecast = triple_exponential_smoothing(ts, 4, alphav, betav, gammav, 4)\n",
        "    fig, ax = plt.subplots(figsize=(12,8))\n",
        "    ax.plot(ts.values,label='Data')\n",
        "    ax.plot(myforecast,label='Forecast',color='green')\n",
        "    ax.set_title('Triple Exponential Smoothing Forecast (Holt-Winters)',fontsize=25)\n",
        "    ax.set_xlabel('Time',fontsize = 20)\n",
        "    ax.set_ylabel('Value',fontsize = 20)\n",
        "    ax.xaxis.set_tick_params(labelsize=20)\n",
        "    ax.yaxis.set_tick_params(labelsize=20)\n",
        "    ax.legend(fontsize='large')\n",
        "    plt.show()"
      ],
      "execution_count": 0,
      "outputs": []
    }
  ]
}